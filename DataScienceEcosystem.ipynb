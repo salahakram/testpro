{
 "cells": [
  {
   "cell_type": "markdown",
   "id": "ef5b8ccf-3a4c-48c1-9cb8-1baa6bc29948",
   "metadata": {},
   "source": [
    "# Data Science Tools and Ecosystem"
   ]
  },
  {
   "cell_type": "markdown",
   "id": "3809b23a-0019-4335-a006-daf6dc189de5",
   "metadata": {},
   "source": [
    "## In this notebook, Data Science Tools and Ecosystem are summarized."
   ]
  },
  {
   "cell_type": "markdown",
   "id": "b3e3375a-a5d6-4481-ad5f-5fa5936a2c82",
   "metadata": {},
   "source": [
    "**Objectives**\n",
    "* How to run, delete, and insert a code cell in Jupyter Notebooks.\n",
    "\n",
    "* How to run multiple notebooks at the same time.\n",
    "\n",
    "* How to present a notebook using a combination of Markdown and code cells.\n",
    "\n",
    "* How to shut down your notebook sessions after you have completed your work on them.\n",
    "\n",
    "* Jupyter implements a two-process model with a kernel and a client.\n",
    "\n"
   ]
  },
  {
   "cell_type": "markdown",
   "id": "73e04984-72dd-459b-9c32-791bbc8d3f34",
   "metadata": {},
   "source": [
    "### Some of the popular languages that Data Scientists use are:\n",
    "\n",
    "1. Python\n",
    "2. R\n",
    "3. SQL\n",
    "4. Julia"
   ]
  },
  {
   "cell_type": "markdown",
   "id": "de8004b7-8f0a-431d-ada1-cffb23a8e89a",
   "metadata": {},
   "source": [
    "### Some of the commonly used libraries used by Data Scientists include:\n",
    "1. Pandas (Python)\n",
    "2. NumPy (Python)\n",
    "3. scikit-learn (Python)\n",
    "4. TensorFlow (Python)\n",
    "5. Keras (Python)"
   ]
  },
  {
   "cell_type": "markdown",
   "id": "b226b8ee-804b-450b-a9c1-586cb58b2d99",
   "metadata": {},
   "source": [
    "|Data Science tools|\n",
    "|------------------|\n",
    "|Jupyter Notebook|\n",
    "|RStudio|\n",
    "|Apache Hadoop|\n"
   ]
  },
  {
   "cell_type": "markdown",
   "id": "39f7b25a-22a3-4fb2-9277-838fc161e6ea",
   "metadata": {},
   "source": [
    "### Below are a few examples of evaluating arithmetic expressions in Python :"
   ]
  },
  {
   "cell_type": "code",
   "execution_count": 11,
   "id": "b4412660-f49a-4822-a41d-5a1cd6d7c9cb",
   "metadata": {},
   "outputs": [
    {
     "data": {
      "text/plain": [
       "17"
      ]
     },
     "execution_count": 11,
     "metadata": {},
     "output_type": "execute_result"
    }
   ],
   "source": [
    "## This is a simple arithmetic expression to multiply then add integers.\n",
    "result = (3 * 4) + 5\n",
    "result"
   ]
  },
  {
   "cell_type": "code",
   "execution_count": 12,
   "id": "10981377-1501-4d1b-84ec-10f90fea5ed4",
   "metadata": {},
   "outputs": [
    {
     "data": {
      "text/plain": [
       "3.3333333333333335"
      ]
     },
     "execution_count": 12,
     "metadata": {},
     "output_type": "execute_result"
    }
   ],
   "source": [
    "# This will convert 200 minutes to hours by diving by 60.\n",
    "min=200\n",
    "hours=min/60\n",
    "hours"
   ]
  },
  {
   "cell_type": "markdown",
   "id": "7aaf0593-6730-45a2-957c-a959d11cb016",
   "metadata": {},
   "source": [
    "## Author:Salah Akram"
   ]
  },
  {
   "cell_type": "code",
   "execution_count": null,
   "id": "b0ab28b3-df55-4cab-9fe4-8d75ac54951d",
   "metadata": {},
   "outputs": [],
   "source": []
  }
 ],
 "metadata": {
  "kernelspec": {
   "display_name": "Python 3 (ipykernel)",
   "language": "python",
   "name": "python3"
  },
  "language_info": {
   "codemirror_mode": {
    "name": "ipython",
    "version": 3
   },
   "file_extension": ".py",
   "mimetype": "text/x-python",
   "name": "python",
   "nbconvert_exporter": "python",
   "pygments_lexer": "ipython3",
   "version": "3.11.7"
  }
 },
 "nbformat": 4,
 "nbformat_minor": 5
}
